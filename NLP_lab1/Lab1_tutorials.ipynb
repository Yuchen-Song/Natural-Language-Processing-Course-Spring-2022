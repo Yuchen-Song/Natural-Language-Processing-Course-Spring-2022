{
 "cells": [
  {
   "cell_type": "markdown",
   "id": "e25566b8-7523-47b5-b725-fbb3f663e99f",
   "metadata": {},
   "source": [
    "# Task 1: NLTK exercise"
   ]
  },
  {
   "cell_type": "markdown",
   "id": "d93e6989-351e-40a5-bd4e-945cd2143512",
   "metadata": {},
   "source": [
    "### Q1-1 载入Gutenberg语料库"
   ]
  },
  {
   "cell_type": "code",
   "execution_count": 1,
   "id": "fa54be42-d13d-41a5-b45f-810b277f7fc4",
   "metadata": {},
   "outputs": [
    {
     "data": {
      "text/plain": [
       "['austen-emma.txt',\n",
       " 'austen-persuasion.txt',\n",
       " 'austen-sense.txt',\n",
       " 'bible-kjv.txt',\n",
       " 'blake-poems.txt',\n",
       " 'bryant-stories.txt',\n",
       " 'burgess-busterbrown.txt',\n",
       " 'carroll-alice.txt',\n",
       " 'chesterton-ball.txt',\n",
       " 'chesterton-brown.txt',\n",
       " 'chesterton-thursday.txt',\n",
       " 'edgeworth-parents.txt',\n",
       " 'melville-moby_dick.txt',\n",
       " 'milton-paradise.txt',\n",
       " 'shakespeare-caesar.txt',\n",
       " 'shakespeare-hamlet.txt',\n",
       " 'shakespeare-macbeth.txt',\n",
       " 'whitman-leaves.txt']"
      ]
     },
     "execution_count": 1,
     "metadata": {},
     "output_type": "execute_result"
    }
   ],
   "source": [
    "from nltk.corpus import gutenberg as gb\n",
    "# 查看包含哪些语料\n",
    "gb.fileids()"
   ]
  },
  {
   "cell_type": "code",
   "execution_count": 2,
   "id": "7426d2a7-97e3-4c45-8827-c0f522921c8b",
   "metadata": {},
   "outputs": [
    {
     "data": {
      "text/plain": [
       "['[', 'Emma', 'by', 'Jane', 'Austen', '1816', ']', 'VOLUME', 'I', 'CHAPTER']"
      ]
     },
     "execution_count": 2,
     "metadata": {},
     "output_type": "execute_result"
    }
   ],
   "source": [
    "# 可以看到需要用到的austen-emma.txt包含在该语料库中\n",
    "# 获取austen-emma.txt的word tokens\n",
    "word_list = gb.words('austen-emma.txt')\n",
    "word_list[0:10]"
   ]
  },
  {
   "cell_type": "markdown",
   "id": "190e233a-bad2-4380-b1d4-32784a62e312",
   "metadata": {},
   "source": [
    "### Q1-3 sents(string):把文本化成句子，每一个句子是词链表"
   ]
  },
  {
   "cell_type": "code",
   "execution_count": 3,
   "id": "791a6d9a-3b94-44b3-871a-b770ca99dccc",
   "metadata": {},
   "outputs": [
    {
     "data": {
      "text/plain": [
       "[['[', 'Emma', 'by', 'Jane', 'Austen', '1816', ']'], ['VOLUME', 'I'], ...]"
      ]
     },
     "execution_count": 3,
     "metadata": {},
     "output_type": "execute_result"
    }
   ],
   "source": [
    "sent_list = gb.sents('austen-emma.txt')\n",
    "sent_list"
   ]
  },
  {
   "cell_type": "markdown",
   "id": "ca0bd764-8e95-43c0-a0f8-6d153ec303c2",
   "metadata": {},
   "source": [
    "### Q2-1 获取romance语料"
   ]
  },
  {
   "cell_type": "code",
   "execution_count": 4,
   "id": "efb7275d-da39-4ac4-805b-005c085ae761",
   "metadata": {},
   "outputs": [],
   "source": [
    "import nltk\n",
    "from nltk.corpus import brown"
   ]
  },
  {
   "cell_type": "code",
   "execution_count": 5,
   "id": "f7e7fd24-d76a-4dda-88b4-a11ee10715cd",
   "metadata": {},
   "outputs": [],
   "source": [
    "romance_word_list = brown.words(categories='romance')\n",
    "romance_freqdist = nltk.FreqDist([ w.lower() for w in romance_word_list ])"
   ]
  },
  {
   "cell_type": "code",
   "execution_count": 6,
   "id": "650be62c-4a70-4617-9763-e6938366d9d3",
   "metadata": {},
   "outputs": [
    {
     "data": {
      "text/plain": [
       "[(',', 3899), ('.', 3736), ('the', 2988), ('and', 1905), ('to', 1517)]"
      ]
     },
     "execution_count": 6,
     "metadata": {},
     "output_type": "execute_result"
    }
   ],
   "source": [
    "# 查看rank5\n",
    "romance_freqdist.most_common(5)"
   ]
  },
  {
   "cell_type": "markdown",
   "id": "6ec1cb5a-63a5-4790-bf7a-4a16f6e48fe0",
   "metadata": {
    "tags": []
   },
   "source": [
    "### Q3-1 wordnet"
   ]
  },
  {
   "cell_type": "markdown",
   "id": "9ffe722c-bf8f-4dee-a37d-e06fa16e5395",
   "metadata": {},
   "source": [
    "WordNet与一般字典的不同在于组织结构的不同，它是以同义词集合(Synset)作为基本的构建单位来组织的，用户可以在同义词集合中找到一个合适的词去表达一个已知的概念。与传统词典类似的是它也给出了定义和例句。"
   ]
  },
  {
   "cell_type": "code",
   "execution_count": 7,
   "id": "b9c46fad-cf72-4f95-9d68-f537992bf28d",
   "metadata": {},
   "outputs": [
    {
     "data": {
      "text/plain": [
       "[Synset('car.n.01'),\n",
       " Synset('car.n.02'),\n",
       " Synset('car.n.03'),\n",
       " Synset('car.n.04'),\n",
       " Synset('cable_car.n.01')]"
      ]
     },
     "execution_count": 7,
     "metadata": {},
     "output_type": "execute_result"
    }
   ],
   "source": [
    "from nltk.corpus import wordnet as wn\n",
    "# wn.synsets(word) 查询一个词所在的所有词集\n",
    "wn.synsets('car')"
   ]
  },
  {
   "cell_type": "code",
   "execution_count": 8,
   "id": "a453d280-f542-4516-894e-b14fb5788d1f",
   "metadata": {},
   "outputs": [
    {
     "data": {
      "text/plain": [
       "'a motor vehicle with four wheels; usually propelled by an internal combustion engine'"
      ]
     },
     "execution_count": 8,
     "metadata": {},
     "output_type": "execute_result"
    }
   ],
   "source": [
    "# 如上，Synset由三部分组成，第一部分是词义，第二部分是词性，第三部分是编号。\n",
    "# 查询一条synset的定义\n",
    "wn.synset('car.n.01').definition()"
   ]
  },
  {
   "cell_type": "code",
   "execution_count": 9,
   "id": "50d2b9dc-dc35-4316-9071-c742cee4dd89",
   "metadata": {},
   "outputs": [
    {
     "data": {
      "text/plain": [
       "['he needs a car to get to work']"
      ]
     },
     "execution_count": 9,
     "metadata": {},
     "output_type": "execute_result"
    }
   ],
   "source": [
    "# 查询一条synset的例句\n",
    "wn.synset('car.n.01').examples()"
   ]
  },
  {
   "cell_type": "code",
   "execution_count": 10,
   "id": "fc5c743e-7baa-42ab-8924-69a9766036d3",
   "metadata": {},
   "outputs": [
    {
     "data": {
      "text/plain": [
       "[Lemma('car.n.01.car'),\n",
       " Lemma('car.n.01.auto'),\n",
       " Lemma('car.n.01.automobile'),\n",
       " Lemma('car.n.01.machine'),\n",
       " Lemma('car.n.01.motorcar')]"
      ]
     },
     "execution_count": 10,
     "metadata": {},
     "output_type": "execute_result"
    }
   ],
   "source": [
    "# 查询一条synset有几个同义词\n",
    "wn.synset('car.n.01').lemmas()"
   ]
  },
  {
   "cell_type": "code",
   "execution_count": 11,
   "id": "ec4357a2-9622-44cc-949a-52f043c05fcb",
   "metadata": {},
   "outputs": [
    {
     "data": {
      "text/plain": [
       "['car', 'auto', 'automobile', 'machine', 'motorcar']"
      ]
     },
     "execution_count": 11,
     "metadata": {},
     "output_type": "execute_result"
    }
   ],
   "source": [
    "# 查询每个同义词的写法\n",
    "wn.synset('car.n.01').lemma_names()"
   ]
  },
  {
   "cell_type": "code",
   "execution_count": 12,
   "id": "a546c9fc-9369-4054-a85c-384942dc3d28",
   "metadata": {},
   "outputs": [
    {
     "name": "stdout",
     "output_type": "stream",
     "text": [
      "car auto automobile machine motorcar\n",
      "car railcar railway_car railroad_car\n",
      "car gondola\n",
      "car elevator_car\n",
      "cable_car car\n"
     ]
    }
   ],
   "source": [
    "# 查询car在每个synset的同义词\n",
    "for synset in wn.synsets('car'):\n",
    "    print(' '.join(synset.lemma_names()))"
   ]
  },
  {
   "cell_type": "markdown",
   "id": "ee6cdd37-7ab3-4026-88cb-71be699a52e2",
   "metadata": {},
   "source": [
    "### Q3-2 下位词hyponyms"
   ]
  },
  {
   "cell_type": "code",
   "execution_count": 13,
   "id": "6ec59733-14a5-4496-be2b-fb0b79048190",
   "metadata": {},
   "outputs": [
    {
     "data": {
      "text/plain": [
       "[Synset('car.n.01'),\n",
       " Synset('car.n.02'),\n",
       " Synset('car.n.03'),\n",
       " Synset('car.n.04'),\n",
       " Synset('cable_car.n.01')]"
      ]
     },
     "execution_count": 13,
     "metadata": {},
     "output_type": "execute_result"
    }
   ],
   "source": [
    "from nltk.corpus import wordnet as wn\n",
    "car_synsets = wn.synsets(\"car\")\n",
    "car_synsets"
   ]
  },
  {
   "cell_type": "code",
   "execution_count": 14,
   "id": "5869ec6d-c509-4a97-8b53-a4d2d1c6b9f6",
   "metadata": {},
   "outputs": [
    {
     "name": "stdout",
     "output_type": "stream",
     "text": [
      "['ambulance']\n",
      "['beach_wagon', 'station_wagon', 'wagon', 'estate_car', 'beach_waggon', 'station_waggon', 'waggon']\n",
      "['bus', 'jalopy', 'heap']\n",
      "['cab', 'hack', 'taxi', 'taxicab']\n",
      "['compact', 'compact_car']\n",
      "['convertible']\n",
      "['coupe']\n",
      "['cruiser', 'police_cruiser', 'patrol_car', 'police_car', 'prowl_car', 'squad_car']\n",
      "['electric', 'electric_automobile', 'electric_car']\n",
      "['gas_guzzler']\n",
      "['hardtop']\n",
      "['hatchback']\n",
      "['horseless_carriage']\n",
      "['hot_rod', 'hot-rod']\n",
      "['jeep', 'landrover']\n",
      "['limousine', 'limo']\n",
      "['loaner']\n",
      "['minicar']\n",
      "['minivan']\n",
      "['Model_T']\n",
      "['pace_car']\n",
      "['racer', 'race_car', 'racing_car']\n",
      "['roadster', 'runabout', 'two-seater']\n",
      "['sedan', 'saloon']\n",
      "['sport_utility', 'sport_utility_vehicle', 'S.U.V.', 'SUV']\n",
      "['sports_car', 'sport_car']\n",
      "['Stanley_Steamer']\n",
      "['stock_car']\n",
      "['subcompact', 'subcompact_car']\n",
      "['touring_car', 'phaeton', 'tourer']\n",
      "['used-car', 'secondhand_car']\n"
     ]
    }
   ],
   "source": [
    "car_hyponyms_synsets = wn.synset('car.n.01').hyponyms()\n",
    "for hy in car_hyponyms_synsets:\n",
    "    print(hy.lemma_names())"
   ]
  },
  {
   "cell_type": "markdown",
   "id": "c49209ae-138e-4e50-b799-f1b248d1b30b",
   "metadata": {
    "tags": []
   },
   "source": [
    "### Q3-3 similarity"
   ]
  },
  {
   "cell_type": "code",
   "execution_count": 15,
   "id": "f79930d8-bc02-4e48-b94a-a93f2eec91c4",
   "metadata": {},
   "outputs": [],
   "source": [
    "# 计算两个synset的相似度方法之一\n",
    "synset_names = ['right_whale.n.01', 'novel.n.01']\n",
    "synsets = [wn.synset(sn) for sn in synset_names]"
   ]
  },
  {
   "cell_type": "code",
   "execution_count": 16,
   "id": "38421026-2c9c-4a6e-b79d-cc7fe9fe1bd8",
   "metadata": {},
   "outputs": [
    {
     "data": {
      "text/plain": [
       "[3.6375861597263857, 0.5020919437972361]"
      ]
     },
     "execution_count": 16,
     "metadata": {},
     "output_type": "execute_result"
    }
   ],
   "source": [
    "sims = [synsets[0].lch_similarity(sn) for sn in synsets ]\n",
    "sims"
   ]
  },
  {
   "cell_type": "markdown",
   "id": "4cbdb866-472c-4094-b5fb-3fc60ce4603a",
   "metadata": {},
   "source": [
    "# Task 2"
   ]
  },
  {
   "cell_type": "code",
   "execution_count": 17,
   "id": "da2755f3-2db9-4a25-9c94-cd70005fd6ed",
   "metadata": {},
   "outputs": [],
   "source": [
    "# import numpy as np\n",
    "# from math import sqrt, log\n",
    "# from itertools import chain\n",
    "# from collections import defaultdict\n",
    "\n",
    "# 将给定的corpus表示为BOW\n",
    "# Bag-of-words模型介绍参考：https://zhuanlan.zhihu.com/p/29933242\n",
    "def calculate_bow(corpus):\n",
    "    def vectorize(sentence, vocab):\n",
    "        return [sentence.split().count(i) for i in vocab]\n",
    "\n",
    "    vectorized_corpus = []\n",
    "    vocab = sorted(set([token for doc in corpus for token in doc.lower().split()]))\n",
    "    for i in corpus:\n",
    "        vectorized_corpus.append((i, vectorize(i, vocab)))\n",
    "    return vectorized_corpus, vocab\n",
    "\n",
    "def q1():\n",
    "    all_sents = [\"this is a foo bar\",\n",
    "                 \"foo bar bar black sheep\",\n",
    "                 \"this is a sentence\"]\n",
    "    corpus_bow, vocab = calculate_bow(all_sents)\n",
    "    print(corpus_bow)\n",
    "    print(vocab)"
   ]
  },
  {
   "cell_type": "code",
   "execution_count": 18,
   "id": "8f0c9410-ca36-430f-963e-ef2b9b68d7b1",
   "metadata": {},
   "outputs": [
    {
     "name": "stdout",
     "output_type": "stream",
     "text": [
      "[('this is a foo bar', [1, 1, 0, 1, 1, 0, 0, 1]), ('foo bar bar black sheep', [0, 2, 1, 1, 0, 0, 1, 0]), ('this is a sentence', [1, 0, 0, 0, 1, 1, 0, 1])]\n",
      "['a', 'bar', 'black', 'foo', 'is', 'sentence', 'sheep', 'this']\n"
     ]
    }
   ],
   "source": [
    "q1()"
   ]
  },
  {
   "cell_type": "markdown",
   "id": "34af152e-69f7-46d1-91a2-bbdb0ef8aaad",
   "metadata": {},
   "source": [
    "# Task 3"
   ]
  },
  {
   "cell_type": "code",
   "execution_count": 19,
   "id": "edf2a001-392e-4bd8-8a3e-1e0dbc8c9e84",
   "metadata": {},
   "outputs": [],
   "source": [
    "# 验证齐夫定律 Zipf's lab\n",
    "# 依据NLTK提供的Gutenberg语料库进行验证\n",
    "from nltk.corpus import brown,gutenberg\n",
    "from collections import Counter"
   ]
  },
  {
   "cell_type": "code",
   "execution_count": 20,
   "id": "122d563e-931c-4247-8119-4ebe8cc774c3",
   "metadata": {},
   "outputs": [
    {
     "name": "stdout",
     "output_type": "stream",
     "text": [
      "[('the', 133583), ('and', 95442), ('of', 71267), ('to', 48057), ('a', 33960), ('in', 33580), ('i', 30265), ('that', 28798), ('he', 25857), ('it', 22303), ('his', 21402), (\"'\", 19873), ('for', 19527), ('was', 18715), ('with', 17599), ('not', 17373), ('is', 16435), ('you', 16398), ('be', 16115), ('\"', 15422)]\n"
     ]
    }
   ],
   "source": [
    "puncs = set((',', '.', '--', '-', '!', '?', ':', ';', '``', \"''\", '(', ')', '[', ']'))\n",
    "word_list_gutenberg = (x.lower() for x in gutenberg.words() if x not in puncs)\n",
    "\n",
    "token_counts_gutenberg = Counter(word_list_gutenberg)\n",
    "print(token_counts_gutenberg.most_common(20))"
   ]
  },
  {
   "cell_type": "markdown",
   "id": "a29118da-7565-4dad-91f0-e0910e6c1656",
   "metadata": {},
   "source": [
    "布朗语料库中的词频符合齐普夫预测的对数线性关系如果把语料库的词按照出现次数按降序排列，我们会发现：对一个足够大的样本，出现次数排名第一的词在语料库中的出现次数是排名第二的词的两倍，是排名第四的词的 4 倍。因此，给定一个大型语料库，可以用上述数字来粗略统计给定词出现在该语料库的任何给定文档中的可能性。"
   ]
  },
  {
   "cell_type": "code",
   "execution_count": 21,
   "id": "79d2e121-dfef-48f3-b664-25a4d9f3183c",
   "metadata": {},
   "outputs": [],
   "source": [
    "freq_gutenberg = []\n",
    "for word in token_counts_gutenberg:\n",
    "    freq_gutenberg.append(token_counts_gutenberg[word])\n",
    "freq_gutenberg.sort(reverse=True)\n",
    "\n",
    "freq1 = freq_gutenberg[:200]\n",
    "x = [i for i in range(1,201)]"
   ]
  },
  {
   "cell_type": "code",
   "execution_count": 24,
   "id": "c4ff9eed-1ca2-4f5c-aa8c-123188d7530d",
   "metadata": {},
   "outputs": [
    {
     "data": {
      "text/plain": [
       "[<matplotlib.lines.Line2D at 0x1f8bd247c88>]"
      ]
     },
     "execution_count": 24,
     "metadata": {},
     "output_type": "execute_result"
    },
    {
     "data": {
      "image/png": "[encoded data removed]",
      "text/plain": [
       "<Figure size 432x288 with 1 Axes>"
      ]
     },
     "metadata": {
      "needs_background": "light"
     },
     "output_type": "display_data"
    }
   ],
   "source": [
    "# 载入作图包 matplotlib\n",
    "import matplotlib.pyplot as plt\n",
    "import math\n",
    "\n",
    "plt.plot([math.log(i) for i in x], [math.log(y) for y in freq1])"
   ]
  },
  {
   "cell_type": "code",
   "execution_count": null,
   "id": "868f2385-e66b-42a3-91b1-7923b21eaa7a",
   "metadata": {},
   "outputs": [],
   "source": []
  }
 ],
 "metadata": {
  "kernelspec": {
   "display_name": "nlp",
   "language": "python",
   "name": "nlp"
  },
  "language_info": {
   "codemirror_mode": {
    "name": "ipython",
    "version": 3
   },
   "file_extension": ".py",
   "mimetype": "text/x-python",
   "name": "python",
   "nbconvert_exporter": "python",
   "pygments_lexer": "ipython3",
   "version": "3.6.13"
  }
 },
 "nbformat": 4,
 "nbformat_minor": 5
}
